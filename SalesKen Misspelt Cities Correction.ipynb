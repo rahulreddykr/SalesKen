{
 "cells": [
  {
   "cell_type": "markdown",
   "metadata": {},
   "source": [
    "## Import Libraries"
   ]
  },
  {
   "cell_type": "code",
   "execution_count": null,
   "metadata": {},
   "outputs": [],
   "source": [
    "import pandas as pd\n",
    "from fuzzywuzzy import fuzz\n",
    "from time import time"
   ]
  },
  {
   "cell_type": "markdown",
   "metadata": {},
   "source": [
    "## Load the data"
   ]
  },
  {
   "cell_type": "code",
   "execution_count": 2,
   "metadata": {},
   "outputs": [
    {
     "name": "stdout",
     "output_type": "stream",
     "text": [
      "(23018, 3)\n",
      "(23018, 2)\n"
     ]
    }
   ],
   "source": [
    "df_correct = pd.read_csv('Correct_cities.csv')\n",
    "df_misspelt = pd.read_csv('Misspelt_cities.csv')\n",
    "print(df_correct.shape)\n",
    "print(df_misspelt.shape)"
   ]
  },
  {
   "cell_type": "markdown",
   "metadata": {},
   "source": [
    "## EDA"
   ]
  },
  {
   "cell_type": "code",
   "execution_count": 3,
   "metadata": {},
   "outputs": [
    {
     "name": "stdout",
     "output_type": "stream",
     "text": [
      "               name               country       id\n",
      "0      les Escaldes               Andorra  3040051\n",
      "1  Andorra la Vella               Andorra  3041563\n",
      "2    Umm al Qaywayn  United Arab Emirates   290594\n",
      "3    Ras al-Khaimah  United Arab Emirates   291074\n",
      "4      Khawr Fakkān  United Arab Emirates   291696\n",
      "    misspelt_name        country\n",
      "0  Hfjdúszoposzló        Hungary\n",
      "1        Otrajnyy         Russia\n",
      "2      ian Isidre           Peru\n",
      "3   Bordj Zemoufa        Algeria\n",
      "4     ChulamViwta  United States\n"
     ]
    }
   ],
   "source": [
    "print(df_correct.head())\n",
    "print(df_misspelt.head())"
   ]
  },
  {
   "cell_type": "code",
   "execution_count": 13,
   "metadata": {},
   "outputs": [
    {
     "name": "stdout",
     "output_type": "stream",
     "text": [
      "(23018, 3)\n",
      "(23018, 2)\n"
     ]
    }
   ],
   "source": [
    "print(df_correct.dropna().shape)\n",
    "print(df_misspelt.dropna().shape)"
   ]
  },
  {
   "cell_type": "markdown",
   "metadata": {},
   "source": [
    "## Map the incorrect cities to correct cities using fuzzy matching\n",
    "\n",
    "As the record count is high, the mapping process may take around 45 mins based on the system's processing power\n",
    "\n",
    "Comment the lines 11 and 12 to see the results for the whole data"
   ]
  },
  {
   "cell_type": "code",
   "execution_count": 15,
   "metadata": {},
   "outputs": [
    {
     "name": "stdout",
     "output_type": "stream",
     "text": [
      "total time -  26.470224857330322\n"
     ]
    }
   ],
   "source": [
    "df_misspelt['id'] = -1\n",
    "start = time()\n",
    "for idx, row in df_misspelt.iterrows():\n",
    "    max_fuzz=0; max_fuzz_idx=None;\n",
    "    for corr_idx, corr_row in df_correct[df_correct['country']==row['country']].iterrows():\n",
    "        fuzz_match = fuzz.ratio(row['misspelt_name'], corr_row['name'])\n",
    "        if fuzz_match > max_fuzz:\n",
    "            max_fuzz = fuzz_match\n",
    "            max_fuzz_idx = corr_idx\n",
    "    df_misspelt.loc[df_misspelt.index==idx, 'id'] = df_correct.iloc[max_fuzz_idx]['id']\n",
    "    if idx>200:\n",
    "        break\n",
    "end = time()\n",
    "print(\"total time - \", end - start)"
   ]
  },
  {
   "cell_type": "code",
   "execution_count": 16,
   "metadata": {},
   "outputs": [
    {
     "data": {
      "text/plain": [
       "(23018, 3)"
      ]
     },
     "execution_count": 16,
     "metadata": {},
     "output_type": "execute_result"
    }
   ],
   "source": [
    "df_misspelt.shape"
   ]
  },
  {
   "cell_type": "code",
   "execution_count": 18,
   "metadata": {},
   "outputs": [
    {
     "data": {
      "text/html": [
       "<div>\n",
       "<style scoped>\n",
       "    .dataframe tbody tr th:only-of-type {\n",
       "        vertical-align: middle;\n",
       "    }\n",
       "\n",
       "    .dataframe tbody tr th {\n",
       "        vertical-align: top;\n",
       "    }\n",
       "\n",
       "    .dataframe thead th {\n",
       "        text-align: right;\n",
       "    }\n",
       "</style>\n",
       "<table border=\"1\" class=\"dataframe\">\n",
       "  <thead>\n",
       "    <tr style=\"text-align: right;\">\n",
       "      <th></th>\n",
       "      <th>name</th>\n",
       "      <th>country</th>\n",
       "      <th>id</th>\n",
       "      <th>misspelt_name</th>\n",
       "    </tr>\n",
       "  </thead>\n",
       "  <tbody>\n",
       "    <tr>\n",
       "      <th>0</th>\n",
       "      <td>Armavir</td>\n",
       "      <td>Armenia</td>\n",
       "      <td>616631</td>\n",
       "      <td>Asmavir</td>\n",
       "    </tr>\n",
       "    <tr>\n",
       "      <th>1</th>\n",
       "      <td>Luanda</td>\n",
       "      <td>Angola</td>\n",
       "      <td>2240449</td>\n",
       "      <td>Luadda</td>\n",
       "    </tr>\n",
       "    <tr>\n",
       "      <th>2</th>\n",
       "      <td>San Jorge</td>\n",
       "      <td>Argentina</td>\n",
       "      <td>3837441</td>\n",
       "      <td>San Jmrge</td>\n",
       "    </tr>\n",
       "    <tr>\n",
       "      <th>3</th>\n",
       "      <td>Quitilipi</td>\n",
       "      <td>Argentina</td>\n",
       "      <td>3839490</td>\n",
       "      <td>Quitflipi</td>\n",
       "    </tr>\n",
       "    <tr>\n",
       "      <th>4</th>\n",
       "      <td>Earlwood</td>\n",
       "      <td>Australia</td>\n",
       "      <td>2167949</td>\n",
       "      <td>Esrlwood</td>\n",
       "    </tr>\n",
       "    <tr>\n",
       "      <th>...</th>\n",
       "      <td>...</td>\n",
       "      <td>...</td>\n",
       "      <td>...</td>\n",
       "      <td>...</td>\n",
       "    </tr>\n",
       "    <tr>\n",
       "      <th>197</th>\n",
       "      <td>Charallave</td>\n",
       "      <td>Venezuela</td>\n",
       "      <td>3645854</td>\n",
       "      <td>Charalqava</td>\n",
       "    </tr>\n",
       "    <tr>\n",
       "      <th>198</th>\n",
       "      <td>Vĩnh Long</td>\n",
       "      <td>Vietnam</td>\n",
       "      <td>1562693</td>\n",
       "      <td>Vĩnh Lone</td>\n",
       "    </tr>\n",
       "    <tr>\n",
       "      <th>199</th>\n",
       "      <td>Thành Phố Phủ Lý</td>\n",
       "      <td>Vietnam</td>\n",
       "      <td>1570449</td>\n",
       "      <td>Thành Phố fer Lý</td>\n",
       "    </tr>\n",
       "    <tr>\n",
       "      <th>200</th>\n",
       "      <td>Thành Phố Hạ Long</td>\n",
       "      <td>Vietnam</td>\n",
       "      <td>1580410</td>\n",
       "      <td>Thành Pnố yạaLong</td>\n",
       "    </tr>\n",
       "    <tr>\n",
       "      <th>201</th>\n",
       "      <td>Kapiri Mposhi</td>\n",
       "      <td>Zambia</td>\n",
       "      <td>913029</td>\n",
       "      <td>Kapiri Mpouii</td>\n",
       "    </tr>\n",
       "  </tbody>\n",
       "</table>\n",
       "<p>202 rows × 4 columns</p>\n",
       "</div>"
      ],
      "text/plain": [
       "                  name    country       id      misspelt_name\n",
       "0              Armavir    Armenia   616631            Asmavir\n",
       "1               Luanda     Angola  2240449             Luadda\n",
       "2            San Jorge  Argentina  3837441          San Jmrge\n",
       "3            Quitilipi  Argentina  3839490          Quitflipi\n",
       "4             Earlwood  Australia  2167949           Esrlwood\n",
       "..                 ...        ...      ...                ...\n",
       "197         Charallave  Venezuela  3645854         Charalqava\n",
       "198          Vĩnh Long    Vietnam  1562693          Vĩnh Lone\n",
       "199   Thành Phố Phủ Lý    Vietnam  1570449   Thành Phố fer Lý\n",
       "200  Thành Phố Hạ Long    Vietnam  1580410  Thành Pnố yạaLong\n",
       "201      Kapiri Mposhi     Zambia   913029      Kapiri Mpouii\n",
       "\n",
       "[202 rows x 4 columns]"
      ]
     },
     "execution_count": 18,
     "metadata": {},
     "output_type": "execute_result"
    }
   ],
   "source": [
    "df_merged = pd.merge(df_correct, df_misspelt, on=['id','country'], how='inner')\n",
    "df_merged"
   ]
  },
  {
   "cell_type": "code",
   "execution_count": 4,
   "metadata": {},
   "outputs": [],
   "source": [
    "df_misspelt.to_csv('Misspelt_cities_updated.csv')"
   ]
  },
  {
   "cell_type": "code",
   "execution_count": null,
   "metadata": {},
   "outputs": [],
   "source": []
  }
 ],
 "metadata": {
  "kernelspec": {
   "display_name": "mts_env_k",
   "language": "python",
   "name": "mts_env"
  },
  "language_info": {
   "codemirror_mode": {
    "name": "ipython",
    "version": 3
   },
   "file_extension": ".py",
   "mimetype": "text/x-python",
   "name": "python",
   "nbconvert_exporter": "python",
   "pygments_lexer": "ipython3",
   "version": "3.7.6"
  },
  "toc": {
   "base_numbering": 1,
   "nav_menu": {},
   "number_sections": true,
   "sideBar": true,
   "skip_h1_title": false,
   "title_cell": "Table of Contents",
   "title_sidebar": "Contents",
   "toc_cell": false,
   "toc_position": {},
   "toc_section_display": true,
   "toc_window_display": false
  }
 },
 "nbformat": 4,
 "nbformat_minor": 2
}
